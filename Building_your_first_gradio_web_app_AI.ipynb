{
  "cells": [
    {
      "cell_type": "markdown",
      "metadata": {
        "id": "view-in-github",
        "colab_type": "text"
      },
      "source": [
        "<a href=\"https://colab.research.google.com/github/Muedgar/try1/blob/main/Building_your_first_gradio_web_app_AI.ipynb\" target=\"_parent\"><img src=\"https://colab.research.google.com/assets/colab-badge.svg\" alt=\"Open In Colab\"/></a>"
      ]
    },
    {
      "cell_type": "code",
      "execution_count": 2,
      "metadata": {
        "colab": {
          "base_uri": "https://localhost:8080/"
        },
        "id": "tmK2nFCg1jNU",
        "outputId": "a2202de5-309c-4252-af39-c0b8de705f3e"
      },
      "outputs": [
        {
          "output_type": "stream",
          "name": "stdout",
          "text": [
            "Collecting gradio\n",
            "  Downloading gradio-2.7.5.2-py3-none-any.whl (871 kB)\n",
            "\u001b[?25l\r\u001b[K     |▍                               | 10 kB 19.4 MB/s eta 0:00:01\r\u001b[K     |▊                               | 20 kB 12.0 MB/s eta 0:00:01\r\u001b[K     |█▏                              | 30 kB 9.3 MB/s eta 0:00:01\r\u001b[K     |█▌                              | 40 kB 8.3 MB/s eta 0:00:01\r\u001b[K     |█▉                              | 51 kB 7.2 MB/s eta 0:00:01\r\u001b[K     |██▎                             | 61 kB 7.3 MB/s eta 0:00:01\r\u001b[K     |██▋                             | 71 kB 6.8 MB/s eta 0:00:01\r\u001b[K     |███                             | 81 kB 7.6 MB/s eta 0:00:01\r\u001b[K     |███▍                            | 92 kB 7.0 MB/s eta 0:00:01\r\u001b[K     |███▊                            | 102 kB 7.1 MB/s eta 0:00:01\r\u001b[K     |████▏                           | 112 kB 7.1 MB/s eta 0:00:01\r\u001b[K     |████▌                           | 122 kB 7.1 MB/s eta 0:00:01\r\u001b[K     |████▉                           | 133 kB 7.1 MB/s eta 0:00:01\r\u001b[K     |█████▎                          | 143 kB 7.1 MB/s eta 0:00:01\r\u001b[K     |█████▋                          | 153 kB 7.1 MB/s eta 0:00:01\r\u001b[K     |██████                          | 163 kB 7.1 MB/s eta 0:00:01\r\u001b[K     |██████▍                         | 174 kB 7.1 MB/s eta 0:00:01\r\u001b[K     |██████▊                         | 184 kB 7.1 MB/s eta 0:00:01\r\u001b[K     |███████▏                        | 194 kB 7.1 MB/s eta 0:00:01\r\u001b[K     |███████▌                        | 204 kB 7.1 MB/s eta 0:00:01\r\u001b[K     |████████                        | 215 kB 7.1 MB/s eta 0:00:01\r\u001b[K     |████████▎                       | 225 kB 7.1 MB/s eta 0:00:01\r\u001b[K     |████████▋                       | 235 kB 7.1 MB/s eta 0:00:01\r\u001b[K     |█████████                       | 245 kB 7.1 MB/s eta 0:00:01\r\u001b[K     |█████████▍                      | 256 kB 7.1 MB/s eta 0:00:01\r\u001b[K     |█████████▊                      | 266 kB 7.1 MB/s eta 0:00:01\r\u001b[K     |██████████▏                     | 276 kB 7.1 MB/s eta 0:00:01\r\u001b[K     |██████████▌                     | 286 kB 7.1 MB/s eta 0:00:01\r\u001b[K     |███████████                     | 296 kB 7.1 MB/s eta 0:00:01\r\u001b[K     |███████████▎                    | 307 kB 7.1 MB/s eta 0:00:01\r\u001b[K     |███████████▋                    | 317 kB 7.1 MB/s eta 0:00:01\r\u001b[K     |████████████                    | 327 kB 7.1 MB/s eta 0:00:01\r\u001b[K     |████████████▍                   | 337 kB 7.1 MB/s eta 0:00:01\r\u001b[K     |████████████▊                   | 348 kB 7.1 MB/s eta 0:00:01\r\u001b[K     |█████████████▏                  | 358 kB 7.1 MB/s eta 0:00:01\r\u001b[K     |█████████████▌                  | 368 kB 7.1 MB/s eta 0:00:01\r\u001b[K     |██████████████                  | 378 kB 7.1 MB/s eta 0:00:01\r\u001b[K     |██████████████▎                 | 389 kB 7.1 MB/s eta 0:00:01\r\u001b[K     |██████████████▋                 | 399 kB 7.1 MB/s eta 0:00:01\r\u001b[K     |███████████████                 | 409 kB 7.1 MB/s eta 0:00:01\r\u001b[K     |███████████████▍                | 419 kB 7.1 MB/s eta 0:00:01\r\u001b[K     |███████████████▉                | 430 kB 7.1 MB/s eta 0:00:01\r\u001b[K     |████████████████▏               | 440 kB 7.1 MB/s eta 0:00:01\r\u001b[K     |████████████████▌               | 450 kB 7.1 MB/s eta 0:00:01\r\u001b[K     |█████████████████               | 460 kB 7.1 MB/s eta 0:00:01\r\u001b[K     |█████████████████▎              | 471 kB 7.1 MB/s eta 0:00:01\r\u001b[K     |█████████████████▋              | 481 kB 7.1 MB/s eta 0:00:01\r\u001b[K     |██████████████████              | 491 kB 7.1 MB/s eta 0:00:01\r\u001b[K     |██████████████████▍             | 501 kB 7.1 MB/s eta 0:00:01\r\u001b[K     |██████████████████▉             | 512 kB 7.1 MB/s eta 0:00:01\r\u001b[K     |███████████████████▏            | 522 kB 7.1 MB/s eta 0:00:01\r\u001b[K     |███████████████████▌            | 532 kB 7.1 MB/s eta 0:00:01\r\u001b[K     |████████████████████            | 542 kB 7.1 MB/s eta 0:00:01\r\u001b[K     |████████████████████▎           | 552 kB 7.1 MB/s eta 0:00:01\r\u001b[K     |████████████████████▊           | 563 kB 7.1 MB/s eta 0:00:01\r\u001b[K     |█████████████████████           | 573 kB 7.1 MB/s eta 0:00:01\r\u001b[K     |█████████████████████▍          | 583 kB 7.1 MB/s eta 0:00:01\r\u001b[K     |█████████████████████▉          | 593 kB 7.1 MB/s eta 0:00:01\r\u001b[K     |██████████████████████▏         | 604 kB 7.1 MB/s eta 0:00:01\r\u001b[K     |██████████████████████▌         | 614 kB 7.1 MB/s eta 0:00:01\r\u001b[K     |███████████████████████         | 624 kB 7.1 MB/s eta 0:00:01\r\u001b[K     |███████████████████████▎        | 634 kB 7.1 MB/s eta 0:00:01\r\u001b[K     |███████████████████████▊        | 645 kB 7.1 MB/s eta 0:00:01\r\u001b[K     |████████████████████████        | 655 kB 7.1 MB/s eta 0:00:01\r\u001b[K     |████████████████████████▍       | 665 kB 7.1 MB/s eta 0:00:01\r\u001b[K     |████████████████████████▉       | 675 kB 7.1 MB/s eta 0:00:01\r\u001b[K     |█████████████████████████▏      | 686 kB 7.1 MB/s eta 0:00:01\r\u001b[K     |█████████████████████████▌      | 696 kB 7.1 MB/s eta 0:00:01\r\u001b[K     |██████████████████████████      | 706 kB 7.1 MB/s eta 0:00:01\r\u001b[K     |██████████████████████████▎     | 716 kB 7.1 MB/s eta 0:00:01\r\u001b[K     |██████████████████████████▊     | 727 kB 7.1 MB/s eta 0:00:01\r\u001b[K     |███████████████████████████     | 737 kB 7.1 MB/s eta 0:00:01\r\u001b[K     |███████████████████████████▍    | 747 kB 7.1 MB/s eta 0:00:01\r\u001b[K     |███████████████████████████▉    | 757 kB 7.1 MB/s eta 0:00:01\r\u001b[K     |████████████████████████████▏   | 768 kB 7.1 MB/s eta 0:00:01\r\u001b[K     |████████████████████████████▋   | 778 kB 7.1 MB/s eta 0:00:01\r\u001b[K     |█████████████████████████████   | 788 kB 7.1 MB/s eta 0:00:01\r\u001b[K     |█████████████████████████████▎  | 798 kB 7.1 MB/s eta 0:00:01\r\u001b[K     |█████████████████████████████▊  | 808 kB 7.1 MB/s eta 0:00:01\r\u001b[K     |██████████████████████████████  | 819 kB 7.1 MB/s eta 0:00:01\r\u001b[K     |██████████████████████████████▍ | 829 kB 7.1 MB/s eta 0:00:01\r\u001b[K     |██████████████████████████████▉ | 839 kB 7.1 MB/s eta 0:00:01\r\u001b[K     |███████████████████████████████▏| 849 kB 7.1 MB/s eta 0:00:01\r\u001b[K     |███████████████████████████████▋| 860 kB 7.1 MB/s eta 0:00:01\r\u001b[K     |████████████████████████████████| 870 kB 7.1 MB/s eta 0:00:01\r\u001b[K     |████████████████████████████████| 871 kB 7.1 MB/s \n",
            "\u001b[?25hCollecting analytics-python\n",
            "  Downloading analytics_python-1.4.0-py2.py3-none-any.whl (15 kB)\n",
            "Collecting python-multipart\n",
            "  Downloading python-multipart-0.0.5.tar.gz (32 kB)\n",
            "Requirement already satisfied: numpy in /usr/local/lib/python3.7/dist-packages (from gradio) (1.19.5)\n",
            "Requirement already satisfied: requests in /usr/local/lib/python3.7/dist-packages (from gradio) (2.23.0)\n",
            "Collecting pydub\n",
            "  Downloading pydub-0.25.1-py2.py3-none-any.whl (32 kB)\n",
            "Collecting markdown2\n",
            "  Downloading markdown2-2.4.2-py2.py3-none-any.whl (34 kB)\n",
            "Collecting aiohttp\n",
            "  Downloading aiohttp-3.8.1-cp37-cp37m-manylinux_2_5_x86_64.manylinux1_x86_64.manylinux_2_12_x86_64.manylinux2010_x86_64.whl (1.1 MB)\n",
            "\u001b[K     |████████████████████████████████| 1.1 MB 57.4 MB/s \n",
            "\u001b[?25hCollecting uvicorn\n",
            "  Downloading uvicorn-0.17.1-py3-none-any.whl (54 kB)\n",
            "\u001b[K     |████████████████████████████████| 54 kB 3.1 MB/s \n",
            "\u001b[?25hRequirement already satisfied: pandas in /usr/local/lib/python3.7/dist-packages (from gradio) (1.1.5)\n",
            "Requirement already satisfied: matplotlib in /usr/local/lib/python3.7/dist-packages (from gradio) (3.2.2)\n",
            "Collecting paramiko\n",
            "  Downloading paramiko-2.9.2-py2.py3-none-any.whl (210 kB)\n",
            "\u001b[K     |████████████████████████████████| 210 kB 70.0 MB/s \n",
            "\u001b[?25hCollecting pycryptodome\n",
            "  Downloading pycryptodome-3.14.0-cp35-abi3-manylinux2010_x86_64.whl (2.0 MB)\n",
            "\u001b[K     |████████████████████████████████| 2.0 MB 47.6 MB/s \n",
            "\u001b[?25hCollecting fastapi\n",
            "  Downloading fastapi-0.73.0-py3-none-any.whl (52 kB)\n",
            "\u001b[K     |████████████████████████████████| 52 kB 802 kB/s \n",
            "\u001b[?25hCollecting ffmpy\n",
            "  Downloading ffmpy-0.3.0.tar.gz (4.8 kB)\n",
            "Requirement already satisfied: pillow in /usr/local/lib/python3.7/dist-packages (from gradio) (7.1.2)\n",
            "Collecting multidict<7.0,>=4.5\n",
            "  Downloading multidict-6.0.2-cp37-cp37m-manylinux_2_17_x86_64.manylinux2014_x86_64.whl (94 kB)\n",
            "\u001b[K     |████████████████████████████████| 94 kB 2.3 MB/s \n",
            "\u001b[?25hRequirement already satisfied: typing-extensions>=3.7.4 in /usr/local/lib/python3.7/dist-packages (from aiohttp->gradio) (3.10.0.2)\n",
            "Collecting aiosignal>=1.1.2\n",
            "  Downloading aiosignal-1.2.0-py3-none-any.whl (8.2 kB)\n",
            "Collecting asynctest==0.13.0\n",
            "  Downloading asynctest-0.13.0-py3-none-any.whl (26 kB)\n",
            "Requirement already satisfied: attrs>=17.3.0 in /usr/local/lib/python3.7/dist-packages (from aiohttp->gradio) (21.4.0)\n",
            "Collecting async-timeout<5.0,>=4.0.0a3\n",
            "  Downloading async_timeout-4.0.2-py3-none-any.whl (5.8 kB)\n",
            "Collecting yarl<2.0,>=1.0\n",
            "  Downloading yarl-1.7.2-cp37-cp37m-manylinux_2_5_x86_64.manylinux1_x86_64.manylinux_2_12_x86_64.manylinux2010_x86_64.whl (271 kB)\n",
            "\u001b[K     |████████████████████████████████| 271 kB 46.2 MB/s \n",
            "\u001b[?25hCollecting frozenlist>=1.1.1\n",
            "  Downloading frozenlist-1.3.0-cp37-cp37m-manylinux_2_5_x86_64.manylinux1_x86_64.manylinux_2_17_x86_64.manylinux2014_x86_64.whl (144 kB)\n",
            "\u001b[K     |████████████████████████████████| 144 kB 60.8 MB/s \n",
            "\u001b[?25hRequirement already satisfied: charset-normalizer<3.0,>=2.0 in /usr/local/lib/python3.7/dist-packages (from aiohttp->gradio) (2.0.10)\n",
            "Requirement already satisfied: idna>=2.0 in /usr/local/lib/python3.7/dist-packages (from yarl<2.0,>=1.0->aiohttp->gradio) (2.10)\n",
            "Requirement already satisfied: python-dateutil>2.1 in /usr/local/lib/python3.7/dist-packages (from analytics-python->gradio) (2.8.2)\n",
            "Collecting backoff==1.10.0\n",
            "  Downloading backoff-1.10.0-py2.py3-none-any.whl (31 kB)\n",
            "Collecting monotonic>=1.5\n",
            "  Downloading monotonic-1.6-py2.py3-none-any.whl (8.2 kB)\n",
            "Requirement already satisfied: six>=1.5 in /usr/local/lib/python3.7/dist-packages (from analytics-python->gradio) (1.15.0)\n",
            "Requirement already satisfied: certifi>=2017.4.17 in /usr/local/lib/python3.7/dist-packages (from requests->gradio) (2021.10.8)\n",
            "Requirement already satisfied: urllib3!=1.25.0,!=1.25.1,<1.26,>=1.21.1 in /usr/local/lib/python3.7/dist-packages (from requests->gradio) (1.24.3)\n",
            "Requirement already satisfied: chardet<4,>=3.0.2 in /usr/local/lib/python3.7/dist-packages (from requests->gradio) (3.0.4)\n",
            "Collecting pydantic!=1.7,!=1.7.1,!=1.7.2,!=1.7.3,!=1.8,!=1.8.1,<2.0.0,>=1.6.2\n",
            "  Downloading pydantic-1.9.0-cp37-cp37m-manylinux_2_17_x86_64.manylinux2014_x86_64.whl (10.9 MB)\n",
            "\u001b[K     |████████████████████████████████| 10.9 MB 42.9 MB/s \n",
            "\u001b[?25hCollecting starlette==0.17.1\n",
            "  Downloading starlette-0.17.1-py3-none-any.whl (58 kB)\n",
            "\u001b[K     |████████████████████████████████| 58 kB 5.9 MB/s \n",
            "\u001b[?25hCollecting anyio<4,>=3.0.0\n",
            "  Downloading anyio-3.5.0-py3-none-any.whl (79 kB)\n",
            "\u001b[K     |████████████████████████████████| 79 kB 7.7 MB/s \n",
            "\u001b[?25hCollecting sniffio>=1.1\n",
            "  Downloading sniffio-1.2.0-py3-none-any.whl (10 kB)\n",
            "Requirement already satisfied: cycler>=0.10 in /usr/local/lib/python3.7/dist-packages (from matplotlib->gradio) (0.11.0)\n",
            "Requirement already satisfied: pyparsing!=2.0.4,!=2.1.2,!=2.1.6,>=2.0.1 in /usr/local/lib/python3.7/dist-packages (from matplotlib->gradio) (3.0.7)\n",
            "Requirement already satisfied: kiwisolver>=1.0.1 in /usr/local/lib/python3.7/dist-packages (from matplotlib->gradio) (1.3.2)\n",
            "Requirement already satisfied: pytz>=2017.2 in /usr/local/lib/python3.7/dist-packages (from pandas->gradio) (2018.9)\n",
            "Collecting cryptography>=2.5\n",
            "  Downloading cryptography-36.0.1-cp36-abi3-manylinux_2_24_x86_64.whl (3.6 MB)\n",
            "\u001b[K     |████████████████████████████████| 3.6 MB 48.8 MB/s \n",
            "\u001b[?25hCollecting bcrypt>=3.1.3\n",
            "  Downloading bcrypt-3.2.0-cp36-abi3-manylinux_2_17_x86_64.manylinux2014_x86_64.manylinux_2_24_x86_64.whl (61 kB)\n",
            "\u001b[K     |████████████████████████████████| 61 kB 502 kB/s \n",
            "\u001b[?25hCollecting pynacl>=1.0.1\n",
            "  Downloading PyNaCl-1.5.0-cp36-abi3-manylinux_2_17_x86_64.manylinux2014_x86_64.manylinux_2_24_x86_64.whl (856 kB)\n",
            "\u001b[K     |████████████████████████████████| 856 kB 45.4 MB/s \n",
            "\u001b[?25hRequirement already satisfied: cffi>=1.1 in /usr/local/lib/python3.7/dist-packages (from bcrypt>=3.1.3->paramiko->gradio) (1.15.0)\n",
            "Requirement already satisfied: pycparser in /usr/local/lib/python3.7/dist-packages (from cffi>=1.1->bcrypt>=3.1.3->paramiko->gradio) (2.21)\n",
            "Requirement already satisfied: click>=7.0 in /usr/local/lib/python3.7/dist-packages (from uvicorn->gradio) (7.1.2)\n",
            "Collecting h11>=0.8\n",
            "  Downloading h11-0.13.0-py3-none-any.whl (58 kB)\n",
            "\u001b[K     |████████████████████████████████| 58 kB 5.8 MB/s \n",
            "\u001b[?25hCollecting asgiref>=3.4.0\n",
            "  Downloading asgiref-3.5.0-py3-none-any.whl (22 kB)\n",
            "Building wheels for collected packages: ffmpy, python-multipart\n",
            "  Building wheel for ffmpy (setup.py) ... \u001b[?25l\u001b[?25hdone\n",
            "  Created wheel for ffmpy: filename=ffmpy-0.3.0-py3-none-any.whl size=4712 sha256=6ce85aec7c99ce6c8dd552670e89aea62e5000900bef5827e8875720907d4667\n",
            "  Stored in directory: /root/.cache/pip/wheels/13/e4/6c/e8059816e86796a597c6e6b0d4c880630f51a1fcfa0befd5e6\n",
            "  Building wheel for python-multipart (setup.py) ... \u001b[?25l\u001b[?25hdone\n",
            "  Created wheel for python-multipart: filename=python_multipart-0.0.5-py3-none-any.whl size=31678 sha256=21962197231d66c1c3c23b40d5c1a3ab44ed79adfccf54907d1975ddcbefb87b\n",
            "  Stored in directory: /root/.cache/pip/wheels/2c/41/7c/bfd1c180534ffdcc0972f78c5758f89881602175d48a8bcd2c\n",
            "Successfully built ffmpy python-multipart\n",
            "Installing collected packages: sniffio, multidict, frozenlist, anyio, yarl, starlette, pynacl, pydantic, monotonic, h11, cryptography, bcrypt, backoff, asynctest, async-timeout, asgiref, aiosignal, uvicorn, python-multipart, pydub, pycryptodome, paramiko, markdown2, ffmpy, fastapi, analytics-python, aiohttp, gradio\n",
            "Successfully installed aiohttp-3.8.1 aiosignal-1.2.0 analytics-python-1.4.0 anyio-3.5.0 asgiref-3.5.0 async-timeout-4.0.2 asynctest-0.13.0 backoff-1.10.0 bcrypt-3.2.0 cryptography-36.0.1 fastapi-0.73.0 ffmpy-0.3.0 frozenlist-1.3.0 gradio-2.7.5.2 h11-0.13.0 markdown2-2.4.2 monotonic-1.6 multidict-6.0.2 paramiko-2.9.2 pycryptodome-3.14.0 pydantic-1.9.0 pydub-0.25.1 pynacl-1.5.0 python-multipart-0.0.5 sniffio-1.2.0 starlette-0.17.1 uvicorn-0.17.1 yarl-1.7.2\n"
          ]
        }
      ],
      "source": [
        "pip install gradio"
      ]
    },
    {
      "cell_type": "code",
      "source": [
        "pip install numpy"
      ],
      "metadata": {
        "colab": {
          "base_uri": "https://localhost:8080/"
        },
        "id": "v_kMOJglTTnY",
        "outputId": "d5c59dc7-c2bb-4c4b-cabf-75fb1b5fc770"
      },
      "execution_count": 3,
      "outputs": [
        {
          "output_type": "stream",
          "name": "stdout",
          "text": [
            "Requirement already satisfied: numpy in /usr/local/lib/python3.7/dist-packages (1.19.5)\n"
          ]
        }
      ]
    },
    {
      "cell_type": "code",
      "source": [
        "pip install pandas"
      ],
      "metadata": {
        "colab": {
          "base_uri": "https://localhost:8080/"
        },
        "id": "tP2T0THkTXsG",
        "outputId": "4dedd06b-e401-4e94-ae28-fc4e217df81c"
      },
      "execution_count": 4,
      "outputs": [
        {
          "output_type": "stream",
          "name": "stdout",
          "text": [
            "Requirement already satisfied: pandas in /usr/local/lib/python3.7/dist-packages (1.1.5)\n",
            "Requirement already satisfied: python-dateutil>=2.7.3 in /usr/local/lib/python3.7/dist-packages (from pandas) (2.8.2)\n",
            "Requirement already satisfied: pytz>=2017.2 in /usr/local/lib/python3.7/dist-packages (from pandas) (2018.9)\n",
            "Requirement already satisfied: numpy>=1.15.4 in /usr/local/lib/python3.7/dist-packages (from pandas) (1.19.5)\n",
            "Requirement already satisfied: six>=1.5 in /usr/local/lib/python3.7/dist-packages (from python-dateutil>=2.7.3->pandas) (1.15.0)\n"
          ]
        }
      ]
    },
    {
      "cell_type": "code",
      "source": [
        "pip install sklearn"
      ],
      "metadata": {
        "colab": {
          "base_uri": "https://localhost:8080/"
        },
        "id": "RGPTsQ45TbJ_",
        "outputId": "bbfd2bc3-65e1-4e55-eb74-7a2d0ddada48"
      },
      "execution_count": 5,
      "outputs": [
        {
          "output_type": "stream",
          "name": "stdout",
          "text": [
            "Requirement already satisfied: sklearn in /usr/local/lib/python3.7/dist-packages (0.0)\n",
            "Requirement already satisfied: scikit-learn in /usr/local/lib/python3.7/dist-packages (from sklearn) (1.0.2)\n",
            "Requirement already satisfied: joblib>=0.11 in /usr/local/lib/python3.7/dist-packages (from scikit-learn->sklearn) (1.1.0)\n",
            "Requirement already satisfied: numpy>=1.14.6 in /usr/local/lib/python3.7/dist-packages (from scikit-learn->sklearn) (1.19.5)\n",
            "Requirement already satisfied: threadpoolctl>=2.0.0 in /usr/local/lib/python3.7/dist-packages (from scikit-learn->sklearn) (3.0.0)\n",
            "Requirement already satisfied: scipy>=1.1.0 in /usr/local/lib/python3.7/dist-packages (from scikit-learn->sklearn) (1.4.1)\n"
          ]
        }
      ]
    },
    {
      "cell_type": "code",
      "source": [
        "import numpy as np\n",
        "import pandas as pd\n",
        "from sklearn.impute import SimpleImputer\n",
        "from sklearn.preprocessing import LabelEncoder\n",
        "from sklearn.preprocessing import StandardScaler\n",
        "from sklearn.model_selection import train_test_split\n",
        "from sklearn.ensemble import RandomForestClassifier\n",
        "from sklearn.metrics import accuracy_score"
      ],
      "metadata": {
        "id": "Cz9BTtkuTIz_"
      },
      "execution_count": 7,
      "outputs": []
    },
    {
      "cell_type": "code",
      "source": [
        "def rainPrediction(fileCSVName):\n",
        "    #Importing necessary libraries\n",
        "    #Storing the values from the dataset in a variable\n",
        "    if fileCSVName == \"weatherAUS.csv\":\n",
        "      dataset = pd.read_csv(\"/weatherAUS.csv\")\n",
        "    #Dividing the values in the dataset into dependent(Y) and independent(X) variables and removing columns with non necessary values or too many null values i.e: 0,5,6\n",
        "    X = dataset.iloc[:,[1,2,3,4,7,8,9,10,11,12,13,14,15,16,18,19,20,21]].values\n",
        "    Y = dataset.iloc[:,-1].values\n",
        "\n",
        "    #Reshaping Y from a 1-dimensional(a[n]) array into a 2-dimensional(a[n][m]) array \n",
        "    Y = Y.reshape(-1,1)\n",
        "\n",
        "    #Removing NA from the dataset and replacing it with the most frequent value in that column\n",
        "    \n",
        "    imputer = SimpleImputer(missing_values=np.nan,strategy='most_frequent')\n",
        "    X = imputer.fit_transform(X)\n",
        "    Y = imputer.fit_transform(Y)\n",
        "\n",
        "    #Encoding non-numerical(i.e: W,WNW) values into numerical values(i.e: 1,2,3,4)\n",
        "\n",
        "    le1 = LabelEncoder()\n",
        "    X[:,0] = le1.fit_transform(X[:,0])\n",
        "    le2 = LabelEncoder()\n",
        "    X[:,4] = le2.fit_transform(X[:,4])\n",
        "    le3 = LabelEncoder()\n",
        "    X[:,6] = le3.fit_transform(X[:,6])\n",
        "    le4 = LabelEncoder()\n",
        "    X[:,7] = le4.fit_transform(X[:,7])\n",
        "    le5 = LabelEncoder()\n",
        "    X[:,-1] = le5.fit_transform(X[:,-1])\n",
        "    le6 = LabelEncoder()\n",
        "    Y = le6.fit_transform(Y)\n",
        "\n",
        "    #Feature scaling to minimize data scattering\n",
        "    \n",
        "    sc = StandardScaler()\n",
        "    X = sc.fit_transform(X)\n",
        "\n",
        "    #Dividing the dataset into 2 parts namely training data and testing data\n",
        "\n",
        "    X_train,X_test,Y_train,Y_test = train_test_split(X,Y,test_size=0.2,random_state=0)\n",
        "\n",
        "    #Training our model\n",
        "\n",
        "    classifier = RandomForestClassifier(n_estimators=100,random_state=0)\n",
        "    classifier.fit(X_train,Y_train)\n",
        "    classifier.score(X_train,Y_train)\n",
        "    Y_test = Y_test.reshape(-1,1)\n",
        "    Y_pred = classifier.predict(X_test)\n",
        "    Y_pred = le6.inverse_transform(Y_pred)\n",
        "    Y_test = le6.inverse_transform(Y_test)\n",
        "    Y_test = Y_test.reshape(-1,1)\n",
        "    Y_pred = Y_pred.reshape(-1,1)\n",
        "\n",
        "    #Concatenating our test and prediction result into a dataset\n",
        "    df = np.concatenate((Y_test,Y_pred),axis=1)\n",
        "    dataframe = pd.DataFrame(df,columns=['Rain Tomorrow','Rain Prediction'])\n",
        "\n",
        "    #Checking the accuracy\n",
        "\n",
        "    print(accuracy_score(Y_test,Y_pred))\n",
        "\n",
        "    #Print .csv file\n",
        "    #answer = dataframe.to_csv(\"predictions.csv\")\n",
        "\n",
        "    # return pd.read_csv(\"predictions.csv\")\n",
        "    return dataframe"
      ],
      "metadata": {
        "id": "6bj5TSiITjYD"
      },
      "execution_count": 40,
      "outputs": []
    },
    {
      "cell_type": "code",
      "execution_count": 9,
      "metadata": {
        "id": "K4Eo_qNb-uz9"
      },
      "outputs": [],
      "source": [
        "import gradio as gr"
      ]
    },
    {
      "cell_type": "code",
      "execution_count": 41,
      "metadata": {
        "id": "etT_QZM-_MTX",
        "colab": {
          "base_uri": "https://localhost:8080/"
        },
        "outputId": "039155af-7d76-438a-991e-9ee413602f51"
      },
      "outputs": [
        {
          "output_type": "stream",
          "name": "stderr",
          "text": [
            "/usr/local/lib/python3.7/dist-packages/sklearn/preprocessing/_label.py:115: DataConversionWarning: A column-vector y was passed when a 1d array was expected. Please change the shape of y to (n_samples, ), for example using ravel().\n",
            "  y = column_or_1d(y, warn=True)\n"
          ]
        },
        {
          "output_type": "stream",
          "name": "stdout",
          "text": [
            "0.8542210917090609\n",
            "      Rain Tomorrow Rain Prediction\n",
            "0               Yes              No\n",
            "1               Yes              No\n",
            "2                No              No\n",
            "3                No             Yes\n",
            "4                No              No\n",
            "...             ...             ...\n",
            "29087            No             Yes\n",
            "29088            No              No\n",
            "29089           Yes              No\n",
            "29090            No              No\n",
            "29091            No              No\n",
            "\n",
            "[29092 rows x 2 columns]\n"
          ]
        },
        {
          "output_type": "stream",
          "name": "stderr",
          "text": [
            "/usr/local/lib/python3.7/dist-packages/sklearn/preprocessing/_label.py:154: DataConversionWarning: A column-vector y was passed when a 1d array was expected. Please change the shape of y to (n_samples, ), for example using ravel().\n",
            "  y = column_or_1d(y, warn=True)\n"
          ]
        }
      ],
      "source": [
        "print(rainPrediction(\"weatherAUS.csv\"))"
      ]
    },
    {
      "cell_type": "code",
      "source": [
        "#headers=[\"Date\",\"Location\",\"MinTemp\",\"MaxTemp\",\"Rainfall\",\"Evaporation\",\"Sunshine\",\"WindGustDir\",\"WindGustSpeed\",\"WindDir9am\",\"WindDir3pm\",\"Humidity9am\",\"Humidity3pm\",\"Pressure9am\",\"Pressure3pm\",\"Cloud9am\",\"Cloud3pm\",\"Temp9am\",\"Temp3pm\",\"RainToday\",\"RainTomorrow\"]"
      ],
      "metadata": {
        "id": "LuicebcnamTB"
      },
      "execution_count": null,
      "outputs": []
    },
    {
      "cell_type": "code",
      "execution_count": 42,
      "metadata": {
        "id": "hi4HRbfK_Pec"
      },
      "outputs": [],
      "source": [
        "app = gr.Interface(rainPrediction, \"text\", gr.outputs.Dataframe(headers=[\"Rain Tomorrow\", \"Rain Prediction\"],label=\"All data\"))"
      ]
    },
    {
      "cell_type": "code",
      "execution_count": null,
      "metadata": {
        "colab": {
          "base_uri": "https://localhost:8080/",
          "height": 698
        },
        "id": "50YY4DSD_yua",
        "outputId": "ca06d02c-6143-4a0f-b519-b0b03598c295"
      },
      "outputs": [
        {
          "output_type": "stream",
          "name": "stdout",
          "text": [
            "Colab notebook detected. This cell will run indefinitely so that you can see errors and logs. To turn off, set debug=False in launch().\n",
            "Running on public URL: https://58220.gradio.app\n",
            "\n",
            "This share link expires in 72 hours. For free permanent hosting, check out Spaces (https://huggingface.co/spaces)\n"
          ]
        },
        {
          "output_type": "display_data",
          "data": {
            "text/html": [
              "\n",
              "        <iframe\n",
              "            width=\"900\"\n",
              "            height=\"500\"\n",
              "            src=\"https://58220.gradio.app\"\n",
              "            frameborder=\"0\"\n",
              "            allowfullscreen\n",
              "        ></iframe>\n",
              "        "
            ],
            "text/plain": [
              "<IPython.lib.display.IFrame at 0x7fde88f16bd0>"
            ]
          },
          "metadata": {}
        },
        {
          "output_type": "stream",
          "name": "stderr",
          "text": [
            "/usr/local/lib/python3.7/dist-packages/sklearn/preprocessing/_label.py:115: DataConversionWarning: A column-vector y was passed when a 1d array was expected. Please change the shape of y to (n_samples, ), for example using ravel().\n",
            "  y = column_or_1d(y, warn=True)\n",
            "/usr/local/lib/python3.7/dist-packages/sklearn/preprocessing/_label.py:154: DataConversionWarning: A column-vector y was passed when a 1d array was expected. Please change the shape of y to (n_samples, ), for example using ravel().\n",
            "  y = column_or_1d(y, warn=True)\n"
          ]
        },
        {
          "output_type": "stream",
          "name": "stdout",
          "text": [
            "0.8542210917090609\n"
          ]
        }
      ],
      "source": [
        "app.launch(debug=True)"
      ]
    }
  ],
  "metadata": {
    "colab": {
      "collapsed_sections": [],
      "name": "Building your first gradio web app AI.ipynb",
      "provenance": [],
      "authorship_tag": "ABX9TyP20X0l0prJwwEPLDkXXve3",
      "include_colab_link": true
    },
    "kernelspec": {
      "display_name": "Python 3",
      "name": "python3"
    },
    "language_info": {
      "name": "python"
    }
  },
  "nbformat": 4,
  "nbformat_minor": 0
}